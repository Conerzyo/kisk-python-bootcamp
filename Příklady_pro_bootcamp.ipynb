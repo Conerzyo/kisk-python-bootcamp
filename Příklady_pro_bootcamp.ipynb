{
  "nbformat": 4,
  "nbformat_minor": 0,
  "metadata": {
    "colab": {
      "name": "Příklady_pro_bootcamp.ipynb",
      "provenance": [],
      "collapsed_sections": []
    },
    "kernelspec": {
      "name": "python3",
      "display_name": "Python 3"
    },
    "language_info": {
      "name": "python"
    }
  },
  "cells": [
    {
      "cell_type": "markdown",
      "source": [
        "# Jak pracovat se cvičeními\n",
        "Cvičení se skládá z bloků kódu a žádaného výstupu vždy na konci zadání cvičení.\n",
        "Po spuštění bloku kódu vždy vidíte výstup. Porovnejte si jej s žádaným výstupem. Pokud se výstup shoduje, máte splněno. Pokud ne, zkuste to znovu, a pokud si nevíte rady, tak se zeptejte a spolu to zvádneme.\n",
        "\n",
        "Veškerá cvičení budu po uplynutí času dělat před všemi a finální verzi mého sešitu vám poté poskytnu jako studijní materiál.\n",
        "\n",
        "---"
      ],
      "metadata": {
        "id": "oTLi1baCT1mC"
      }
    },
    {
      "cell_type": "markdown",
      "source": [
        "# Cvičení 1 – Inicializace proměnných\n",
        "\n",
        "Založte proměnné s uvedenými typy.\n",
        "- Proměnnou greeting, která bude obsahovat řetězec – Hello, world.\n",
        "- Proměnnou whole number, která bude obsahovat číslo 30 (KISK30!).\n",
        "- Konstantu PI s hodnotou PI na dvě desetinná čísla.\n",
        "- Proměnnou is awesome a uložte do ní hodnotu `pravda`, protože jsme všichni skvělí!\n",
        "\n",
        "---\n",
        "\n",
        "Požadovaný výstup:\n",
        "\n",
        "\n",
        "```\n",
        "<class 'str'>\n",
        "<class 'int'>\n",
        "<class 'float'>\n",
        "<class 'bool'>\n",
        "```\n",
        "\n"
      ],
      "metadata": {
        "id": "lw1d2QJHTy1e"
      }
    },
    {
      "cell_type": "markdown",
      "source": [
        "## Svoje řešení vyplňte níže:"
      ],
      "metadata": {
        "id": "7hg4R0xcXCIn"
      }
    },
    {
      "cell_type": "code",
      "source": [
        "# Zde incializuj proměnné ze zadání\n",
        "\n",
        "\n",
        "# do mezery doplň jednotlivé názvy proměnných (jeden řádek – jedna proměnná)\n",
        "print(type(  ))\n",
        "print(type(  ))\n",
        "print(type(  ))\n",
        "print(type(  ))"
      ],
      "metadata": {
        "id": "BgtbF98FTygn"
      },
      "execution_count": null,
      "outputs": []
    },
    {
      "cell_type": "markdown",
      "source": [
        "# Cvičení 2 – vstup od uživatele a jeho zpracování\n",
        "\n",
        "Doplňte program tak, aby získal vstup od uživatele a vypsal, zda se jedná o řetězec, nebo číslo.\n",
        "\n",
        "Protože jsme podmínky ještě nedělali, část programu máme připravenou a je potřeba doplnit kód, který získá vstup od uživatele (s adekvátní hláškou, co po uživateli chcete), a následně výstup z programu pomocí `print()`.\n",
        "\n",
        "Výstup programu nechám čistě na vás."
      ],
      "metadata": {
        "id": "m4QIW541xFZL"
      }
    },
    {
      "cell_type": "markdown",
      "source": [
        "## Svoje řešení vyplňte níže:"
      ],
      "metadata": {
        "id": "qTM6YBZGxE8s"
      }
    },
    {
      "cell_type": "code",
      "source": [
        "# Pomocná funkce, která vrátí True, pokud je to číslo, False pokud ne.\n",
        "def check_is_digit(input):\n",
        "  return input.isdigit()\n",
        "##############################\n",
        "# Poté, co doplníte vypisování hlášek, smažte klíčová slova \"pass\".\n",
        "\n",
        "# Získáme vstup od uživatele a uložíme ho do proměnné.\n",
        "\n",
        "# Podmínka, která ověří, zda vstup od uživatele může být číslo\n",
        "if check_is_digit(___):  # Místo podtržítek doplňte jméno proměnné, kde je uložen vstup od uživatele.\n",
        "  # Hláška, co se vypíše, když je to číslo.\n",
        "  pass\n",
        "else:\n",
        "  # Hláška, když je to cokoliv jiného.\n",
        "  pass"
      ],
      "metadata": {
        "id": "AkGczpLfxGEi"
      },
      "execution_count": null,
      "outputs": []
    },
    {
      "cell_type": "markdown",
      "source": [
        "# Cvičení 3 – Cyklus a podmínky – FizzBuzz\n",
        "\n",
        "Napište program, který projde pole čísel od 1 do 100. Při každém průchodu zkontrolujte, jestli je číslo dělitelné 3, 5 nebo oboje, a podle následujích pravidel upravte výpis:\n",
        "\n",
        "- Je dělitelné 3 – vypište \"Fizz\".\n",
        "- Je dělitelné 5 – vypište \"Buzz\".\n",
        "- Pokud je číslo dělitelné 3 a 5 – vypište \"FizzBuzz\".\n",
        "- Jinak vypište číslo.\n",
        "\n",
        "Pozor na specifitu podmínek!\n",
        "\n",
        "Co se bude v tomto cvičení hodit:\n",
        "- `range()`\n",
        "- `if...elif...else`\n",
        "- `print()`\n",
        "\n",
        "----\n",
        "Požadovaný výstup není uveden z důvodu jeho délky (100 řádků)."
      ],
      "metadata": {
        "id": "9E8pmTwXH4Sm"
      }
    },
    {
      "cell_type": "markdown",
      "source": [
        "##Svoje řešení vyplňte níže:"
      ],
      "metadata": {
        "id": "SJd4YMF6I5OG"
      }
    },
    {
      "cell_type": "code",
      "source": [
        ""
      ],
      "metadata": {
        "id": "E8yxzVH5I5ph"
      },
      "execution_count": null,
      "outputs": []
    },
    {
      "cell_type": "markdown",
      "source": [
        "# Cvičení 4 – Zanořené cykly – Šachovnice\n",
        "\n",
        "Pro toto cvičení si musíte vytvořit dvě proměnné, ve kterých budete mít čísla od 1 do 8 a písmena od `a` do `h`. Následně do sebe zanoříte dva `for` cykly tak, aby logicky tvořily kombinace na šachovnici – `1a` až `8h`. Celkový počet kombinací je 64.\n",
        "\n",
        "K výpisu vám poslouží `print`, kdy v jednom případě musíte upravit parametr funkce print `end` tak, aby při každém výpisu nezalomoval řádky.\n",
        "\n",
        "Co se bude v tomto cvičení hodit:\n",
        "- `range()`\n",
        "- `for` cyklus\n",
        "- `print()` a parametr `end`\n",
        "- formátované stringy\n",
        "\n",
        "-----\n",
        "Požadovaný výstup:\n",
        "\n",
        "```\n",
        "1a 1b 1c 1d 1e 1f 1g 1h \n",
        "2a 2b 2c 2d 2e 2f 2g 2h \n",
        "3a 3b 3c 3d 3e 3f 3g 3h \n",
        "4a 4b 4c 4d 4e 4f 4g 4h \n",
        "5a 5b 5c 5d 5e 5f 5g 5h \n",
        "6a 6b 6c 6d 6e 6f 6g 6h \n",
        "7a 7b 7c 7d 7e 7f 7g 7h \n",
        "8a 8b 8c 8d 8e 8f 8g 8h \n",
        "```"
      ],
      "metadata": {
        "id": "VAqyg8RxE6YQ"
      }
    },
    {
      "cell_type": "markdown",
      "source": [
        "##Svoje řešení vyplňte níže:"
      ],
      "metadata": {
        "id": "WWHa9-d6IyxH"
      }
    },
    {
      "cell_type": "code",
      "source": [
        "# Vytvořte si dvě proměnné, do jedné si uložte čísla od 1 do 8 a do druhé písmena od \"a\" do \"h\"\n",
        "\n",
        "# Patřičně do sebe zanořte dva cykly tak, aby se vám pomocí příkazu print() podařila vypsat šachovnice\n"
      ],
      "metadata": {
        "id": "xIiZu1o_Ed-M"
      },
      "execution_count": null,
      "outputs": []
    },
    {
      "cell_type": "markdown",
      "source": [
        "# Ultimátní cvičení – textová hra Hangman\n",
        "\n",
        "V tomto cvičení si procvičíte snad všechno, co jsme si na kurzu ukázali. Znáte hru \"Šibenice\"? Tak přesně to si naprogramujeme.\n",
        "\n",
        "Nadefinujte si pole slov, ze kterého budete náhodně vybírat jedno slovo, které se bude uživatel snažit uhodnout. \n",
        "\n",
        "Poté uživatele uvítejte a zeptejte se ho na písmeno. Na písmena se ptáme pořád dokola, dokud uživatel slovo neuhádne, nebo mu nedojdou životy.\n",
        "\n",
        "Počet životů nechám na vás.\n",
        "\n",
        "Pro zjednodušení používejte v seznamu pouze malá písmena a všechny inputy převeďte na malá písmena. Stejně tak pro zjednodušení hádáme po jednom písmenu.\n",
        "\n",
        "Klidně si prvně rozkreslete na papír, jak by měl program pracovat krok po kroku. Co by se mělo stát, když uživatel zadá písmeno? A co pak? Musím v každé iteraci hlídat nějaké hodnoty?\n",
        "\n",
        "Nápověda (vychází z mého řešení, které najdete ve složce hangman):\n",
        "- Budete potřebovat alespoň 6 proměnných.\n",
        "- Využijete jak `while`, tak `for` cyklus.\n",
        "- V programu bude několik podmínek a některé budou vnořené.\n",
        "- Print je váš kamarád, formátované stringy, parametr `end` také.\n",
        "- Využijete jak `list`, tak `set`."
      ],
      "metadata": {
        "id": "clXKqEq4KQ9R"
      }
    },
    {
      "cell_type": "markdown",
      "source": [
        "##Svoje řešení vyplňte níže:"
      ],
      "metadata": {
        "id": "1NSFPvJbXWSo"
      }
    },
    {
      "cell_type": "code",
      "source": [
        ""
      ],
      "metadata": {
        "id": "HfUvX0wtXakh"
      },
      "execution_count": null,
      "outputs": []
    }
  ]
}